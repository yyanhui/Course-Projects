{
 "cells": [
  {
   "cell_type": "code",
   "execution_count": 1,
   "id": "a59f46a1",
   "metadata": {},
   "outputs": [],
   "source": [
    "import pandas as pd\n",
    "import numpy as np\n",
    "import torch\n",
    "import torch.nn as nn\n",
    "import torchvision.datasets as dsets \n",
    "import torchvision.transforms as transforms\n",
    "from torch.autograd import Variable\n",
    "import torch.utils.data as Data\n",
    "import matplotlib.pyplot as plt\n",
    "from torch.utils.data import Dataset\n",
    "import torch.nn.functional as F"
   ]
  },
  {
   "cell_type": "code",
   "execution_count": 2,
   "id": "5da94aa9",
   "metadata": {},
   "outputs": [],
   "source": [
    "df = pd.read_table('Train_Dst_Auction_ZScore_CF_9.txt',header=None,delim_whitespace=True).T"
   ]
  },
  {
   "cell_type": "code",
   "execution_count": 3,
   "id": "3d7f2292",
   "metadata": {},
   "outputs": [
    {
     "data": {
      "text/plain": [
       "<torch._C.Generator at 0x2562cb42c70>"
      ]
     },
     "execution_count": 3,
     "metadata": {},
     "output_type": "execute_result"
    }
   ],
   "source": [
    "# parameter for small cnn\n",
    "input_size = 144\n",
    "conv_kernel_1 = 21\n",
    "padding_1 = 10\n",
    "channels=4\n",
    "conv_kernel_2 = 21\n",
    "padding_2 = 10\n",
    "pool_kernel = 3\n",
    "num_classes = 3\n",
    "num_epochs = 7\n",
    "batch_size = 64\n",
    "learning_rate = 0.0001\n",
    "torch.manual_seed(0)"
   ]
  },
  {
   "cell_type": "code",
   "execution_count": 4,
   "id": "e017c02a",
   "metadata": {},
   "outputs": [],
   "source": [
    "# input_size = 144\n",
    "# num_classes = 3\n",
    "# num_epochs = 20\n",
    "# batch_size = 128\n",
    "# learning_rate = 0.001\n",
    "torch.manual_seed(0)\n",
    "class MyDataset(Dataset):\n",
    "    def __init__(self, factorReturn, stockReturn):\n",
    "        data = []\n",
    "        factorReturn = np.array(factorReturn)\n",
    "        stockReturn = np.array(stockReturn)\n",
    "        for i in range(len(factorReturn)):\n",
    "            data.append((factorReturn[i],stockReturn[i]-1))\n",
    "        self.data = data \n",
    "    def __getitem__(self, index):\n",
    "        fn, label = self.data[index]\n",
    "        return fn, label\n",
    "    def __len__(self):\n",
    "        return len(self.data)\n",
    "\n",
    "class Net(nn.Module):\n",
    "    def __init__(self, input_size, conv_kernel_1=21, padding_1=10, channels=4, conv_kernel_2=5, padding_2=2, pool_kernel=4, num_classes=3):\n",
    "        super(Net, self).__init__()\n",
    "        self.C1 = nn.Conv1d(1, channels, conv_kernel_1, 1, padding_1)\n",
    "        self.R1 = nn.ReLU()\n",
    "        self.S2 = nn.MaxPool1d(kernel_size=pool_kernel,stride=1)\n",
    "        self.C3 = nn.Conv1d(channels, channels, conv_kernel_2, 1, padding_2)\n",
    "        self.R2 = nn.ReLU()\n",
    "        self.S4 = nn.MaxPool1d(kernel_size=pool_kernel,stride=1)\n",
    "        self.F6 = nn.Linear(in_features=560, out_features=84)\n",
    "        self.R4 = nn.ReLU()\n",
    "        self.outlayer = nn.Linear(84 * 1 * 1, num_classes)\n",
    "    \n",
    "    def forward(self, x):\n",
    "        \n",
    "        x = self.C1(x)\n",
    "        x = self.R1(x)\n",
    "        x = self.S2(x)\n",
    "        x = self.C3(x)\n",
    "        x = self.R2(x)\n",
    "        x = self.S4(x)\n",
    "        x = x.view(x.size(0), -1)\n",
    "        x = self.F6(x)\n",
    "        x = self.R4(x)\n",
    "#         import pdb\n",
    "#         pdb.set_t\n",
    "        x = self.outlayer(x)\n",
    "        return x"
   ]
  },
  {
   "cell_type": "code",
   "execution_count": 44,
   "id": "e04871b0",
   "metadata": {},
   "outputs": [],
   "source": [
    "class Net1(nn.Module):\n",
    "    def __init__(self, input_size, conv_kernel_1, padding_1, channels, conv_kernel_2, padding_2, pool_kernel, num_classes):\n",
    "        super(Net, self).__init__()\n",
    "        self.C1 = nn.Conv1d(1, 8, 21, 1, 10)\n",
    "        self.R1 = nn.ReLU()\n",
    "        self.S1 = nn.MaxPool1d(kernel_size=pool_kernel,stride=2)\n",
    "        \n",
    "        self.C2 = nn.Conv1d(8, 8, 21, 1, 10)\n",
    "        self.R2 = nn.ReLU()\n",
    "        self.S2 = nn.MaxPool1d(kernel_size=pool_kernel,stride=2)\n",
    "        \n",
    "        self.C3 = nn.Conv1d(8, 8, 21, 1, 10)\n",
    "        self.R3 = nn.ReLU()\n",
    "        self.S3 = nn.MaxPool1d(kernel_size=pool_kernel,stride=2)\n",
    "        \n",
    "        self.C4 = nn.Conv1d(8, 8, 11, 1, 5)\n",
    "        self.R4 = nn.ReLU()\n",
    "        self.S4 = nn.MaxPool1d(kernel_size=pool_kernel,stride=1)\n",
    "        \n",
    "        self.C5 = nn.Conv1d(8, 8, 5, 1, 2)\n",
    "        self.R5 = nn.ReLU()\n",
    "        self.S5 = nn.MaxPool1d(kernel_size=pool_kernel,stride=1)\n",
    "        \n",
    "        self.F6 = nn.Linear(in_features=104, out_features=64)\n",
    "        self.R6 = nn.ReLU()\n",
    "        \n",
    "        self.F7 = nn.Linear(in_features=64, out_features=17)\n",
    "        self.R7 = nn.ReLU()\n",
    "        \n",
    "        self.outlayer = nn.Linear(17 * 1 * 1, 3)\n",
    "    \n",
    "    def forward(self, x):\n",
    "        \n",
    "        x = self.S1(self.R1(self.C1(x)))\n",
    "        x = self.S2(self.R2(self.C2(x)))\n",
    "        x = self.S3(self.R3(self.C3(x)))\n",
    "        x = self.S4(self.R4(self.C4(x)))\n",
    "        x = self.S5(self.R5(self.C5(x)))\n",
    "        x = x.view(x.size(0), -1)\n",
    "        x = self.R6(self.F6(x))\n",
    "        x = self.R7(self.F7(x))\n",
    "        x = self.outlayer(x)\n",
    "        return x"
   ]
  },
  {
   "cell_type": "code",
   "execution_count": 5,
   "id": "334f6e08",
   "metadata": {},
   "outputs": [],
   "source": [
    "def cNN1Predict(input_size, conv_kernel_1, padding_1, channels, conv_kernel_2, padding_2, pool_kernel, num_classes,trainX,trainY,testX,testY,idx,batch_size,num_epochs,validation=True):\n",
    "    if validation == False:\n",
    "        trainX = np.concatenate((trainX,testX),axis=0)\n",
    "        trainY = np.concatenate((trainY,testY),axis=0)\n",
    "    data = MyDataset(trainX,trainY)\n",
    "    train_loader = torch.utils.data.DataLoader(dataset=data,\n",
    "                                               batch_size=batch_size,\n",
    "                                               shuffle=True)\n",
    "    del data\n",
    "    \n",
    "    \n",
    "    data_test = MyDataset(testX,testY)\n",
    "    test_loader = torch.utils.data.DataLoader(dataset=data_test,\n",
    "                                               batch_size=batch_size,\n",
    "                                               shuffle=True)\n",
    "    del data_test\n",
    "\n",
    "    net = Net(input_size, conv_kernel_1, padding_1, channels, conv_kernel_2, padding_2, pool_kernel, num_classes).cuda()\n",
    "    criterion = nn.CrossEntropyLoss() \n",
    "    optimizer = torch.optim.SGD(net.parameters(), lr=learning_rate, weight_decay=0.05)\n",
    "    for epoch in range(num_epochs):\n",
    "        for i, (feature, labels) in enumerate(train_loader):\n",
    "            feature = Variable(feature.view(-1, input_size))\n",
    "            labels = Variable(labels)\n",
    "            feature = feature.to(torch.float32).cuda().unsqueeze(1)\n",
    "            labels = labels.to(torch.float32).cuda()\n",
    "            optimizer.zero_grad(set_to_none=True)\n",
    "            outputs = net(feature)\n",
    "            loss = criterion(outputs, labels.long())\n",
    "            loss.backward()\n",
    "            optimizer.step()\n",
    "\n",
    "    result = pd.DataFrame()\n",
    "    label = pd.DataFrame()\n",
    "    for feature, labels in test_loader:\n",
    "        feature = Variable(feature.view(-1, input_size))\n",
    "        feature = feature.to(torch.float32).cuda().unsqueeze(1)\n",
    "        outputs = net(feature)\n",
    "        _, predicted = torch.max(outputs, 1)\n",
    "        result = pd.concat([result,pd.DataFrame(predicted.cpu().detach().numpy())])\n",
    "        label = pd.concat([label,pd.DataFrame(labels)])\n",
    "    \n",
    "    result.columns = ['pred']\n",
    "    result['label'] = label[0]\n",
    "    result.index = idx\n",
    "    return net, result"
   ]
  },
  {
   "cell_type": "code",
   "execution_count": 6,
   "id": "273cff24",
   "metadata": {},
   "outputs": [],
   "source": [
    "def testSetResult(net, testX, testY, idx):\n",
    "    data = MyDataset(testX, testY)\n",
    "    test_loader = torch.utils.data.DataLoader(dataset=data,\n",
    "                                               batch_size=batch_size,\n",
    "                                               shuffle=True)\n",
    "    result = pd.DataFrame()\n",
    "    for feature, labels in test_loader:\n",
    "        feature = Variable(feature.view(-1, input_size))\n",
    "        feature = feature.to(torch.float32).cuda().unsqueeze(1)\n",
    "        outputs = net(feature)\n",
    "        _, predicted = torch.max(outputs, 1)\n",
    "        result = pd.concat([result,pd.DataFrame(predicted.cpu().detach().numpy())])\n",
    "    \n",
    "    result.columns = ['pred']\n",
    "    result.index = idx\n",
    "    return result"
   ]
  },
  {
   "cell_type": "code",
   "execution_count": 7,
   "id": "8086b58b",
   "metadata": {},
   "outputs": [],
   "source": [
    "from sklearn.model_selection import train_test_split\n",
    "from sklearn.metrics import accuracy_score, recall_score, f1_score, precision_score"
   ]
  },
  {
   "cell_type": "code",
   "execution_count": 17,
   "id": "01984d06",
   "metadata": {},
   "outputs": [],
   "source": [
    "testSet = pd.read_table('Test_Dst_Auction_ZScore_CF_9.txt',header=None,delim_whitespace=True).T\n",
    "def trainForLabel(labelOrder,testSet):\n",
    "    i = 144+labelOrder\n",
    "    trainX,validX = train_test_split(df.iloc[:,:144])\n",
    "    trainY,validY = df.loc[trainX.index][i],df.loc[validX.index][i]\n",
    "    \n",
    "    idx = validY.index\n",
    "    net, result = cNN1Predict(input_size, conv_kernel_1, padding_1, channels, conv_kernel_2, padding_2, pool_kernel, num_classes,np.array(trainX),np.array(trainY),np.array(validX),np.array(validY),idx,batch_size=batch_size,num_epochs=num_epochs,validation=False)\n",
    "\n",
    "    test_Result = testSetResult(net, testSet.iloc[:,:144], testSet[i], idx=testSet.index)\n",
    "    test_Result['label'] = testSet[i]-1\n",
    "    average='macro'\n",
    "    accuracy = accuracy_score(test_Result['label'], test_Result['pred'])\n",
    "    recall = recall_score(test_Result['label'], test_Result['pred'], average=average)\n",
    "    f1 = f1_score(test_Result['label'], test_Result['pred'], average=average)\n",
    "    precise = precision_score(test_Result['label'], test_Result['pred'], average=average)\n",
    "    re = pd.DataFrame([accuracy,precise,recall,f1],index=['accuracy','precise','recall','f1'],columns=[str(i)])\n",
    "    return re"
   ]
  },
  {
   "cell_type": "code",
   "execution_count": 18,
   "id": "3d14b23a",
   "metadata": {},
   "outputs": [
    {
     "name": "stderr",
     "output_type": "stream",
     "text": [
      "C:\\ProgramData\\Anaconda3\\lib\\site-packages\\sklearn\\metrics\\_classification.py:1344: UndefinedMetricWarning: Precision is ill-defined and being set to 0.0 in labels with no predicted samples. Use `zero_division` parameter to control this behavior.\n",
      "  _warn_prf(average, modifier, msg_start, len(result))\n"
     ]
    }
   ],
   "source": [
    "cm = pd.DataFrame()\n",
    "for i in range(5):\n",
    "    re = trainForLabel(i,testSet)\n",
    "    cm = pd.concat([cm,re],axis=1)\n",
    "# cm.to_csv('cm_small.csv')"
   ]
  },
  {
   "cell_type": "code",
   "execution_count": 84,
   "id": "6d491c83",
   "metadata": {},
   "outputs": [
    {
     "data": {
      "text/html": [
       "<div>\n",
       "<style scoped>\n",
       "    .dataframe tbody tr th:only-of-type {\n",
       "        vertical-align: middle;\n",
       "    }\n",
       "\n",
       "    .dataframe tbody tr th {\n",
       "        vertical-align: top;\n",
       "    }\n",
       "\n",
       "    .dataframe thead th {\n",
       "        text-align: right;\n",
       "    }\n",
       "</style>\n",
       "<table border=\"1\" class=\"dataframe\">\n",
       "  <thead>\n",
       "    <tr style=\"text-align: right;\">\n",
       "      <th></th>\n",
       "      <th>144</th>\n",
       "      <th>145</th>\n",
       "      <th>146</th>\n",
       "      <th>147</th>\n",
       "      <th>148</th>\n",
       "    </tr>\n",
       "  </thead>\n",
       "  <tbody>\n",
       "    <tr>\n",
       "      <th>accuracy</th>\n",
       "      <td>0.712859</td>\n",
       "      <td>0.595919</td>\n",
       "      <td>0.517369</td>\n",
       "      <td>0.414336</td>\n",
       "      <td>0.365664</td>\n",
       "    </tr>\n",
       "    <tr>\n",
       "      <th>precise</th>\n",
       "      <td>0.554848</td>\n",
       "      <td>0.450582</td>\n",
       "      <td>0.393647</td>\n",
       "      <td>0.341862</td>\n",
       "      <td>0.251048</td>\n",
       "    </tr>\n",
       "    <tr>\n",
       "      <th>recall</th>\n",
       "      <td>0.712859</td>\n",
       "      <td>0.595919</td>\n",
       "      <td>0.517369</td>\n",
       "      <td>0.414336</td>\n",
       "      <td>0.365664</td>\n",
       "    </tr>\n",
       "    <tr>\n",
       "      <th>f1</th>\n",
       "      <td>0.598559</td>\n",
       "      <td>0.470266</td>\n",
       "      <td>0.382958</td>\n",
       "      <td>0.285484</td>\n",
       "      <td>0.274566</td>\n",
       "    </tr>\n",
       "  </tbody>\n",
       "</table>\n",
       "</div>"
      ],
      "text/plain": [
       "               144       145       146       147       148\n",
       "accuracy  0.712859  0.595919  0.517369  0.414336  0.365664\n",
       "precise   0.554848  0.450582  0.393647  0.341862  0.251048\n",
       "recall    0.712859  0.595919  0.517369  0.414336  0.365664\n",
       "f1        0.598559  0.470266  0.382958  0.285484  0.274566"
      ]
     },
     "execution_count": 84,
     "metadata": {},
     "output_type": "execute_result"
    }
   ],
   "source": [
    "cm"
   ]
  },
  {
   "cell_type": "code",
   "execution_count": 85,
   "id": "43c27ee0",
   "metadata": {},
   "outputs": [
    {
     "data": {
      "text/html": [
       "<div>\n",
       "<style scoped>\n",
       "    .dataframe tbody tr th:only-of-type {\n",
       "        vertical-align: middle;\n",
       "    }\n",
       "\n",
       "    .dataframe tbody tr th {\n",
       "        vertical-align: top;\n",
       "    }\n",
       "\n",
       "    .dataframe thead th {\n",
       "        text-align: right;\n",
       "    }\n",
       "</style>\n",
       "<table border=\"1\" class=\"dataframe\">\n",
       "  <thead>\n",
       "    <tr style=\"text-align: right;\">\n",
       "      <th></th>\n",
       "      <th>144</th>\n",
       "      <th>145</th>\n",
       "      <th>146</th>\n",
       "      <th>147</th>\n",
       "      <th>148</th>\n",
       "    </tr>\n",
       "  </thead>\n",
       "  <tbody>\n",
       "    <tr>\n",
       "      <th>accuracy</th>\n",
       "      <td>0.716644</td>\n",
       "      <td>0.611114</td>\n",
       "      <td>0.532859</td>\n",
       "      <td>0.426416</td>\n",
       "      <td>0.374094</td>\n",
       "    </tr>\n",
       "    <tr>\n",
       "      <th>precise</th>\n",
       "      <td>0.513579</td>\n",
       "      <td>0.373460</td>\n",
       "      <td>0.283939</td>\n",
       "      <td>0.181831</td>\n",
       "      <td>0.139946</td>\n",
       "    </tr>\n",
       "    <tr>\n",
       "      <th>recall</th>\n",
       "      <td>0.716644</td>\n",
       "      <td>0.611114</td>\n",
       "      <td>0.532859</td>\n",
       "      <td>0.426416</td>\n",
       "      <td>0.374094</td>\n",
       "    </tr>\n",
       "    <tr>\n",
       "      <th>f1</th>\n",
       "      <td>0.598352</td>\n",
       "      <td>0.463605</td>\n",
       "      <td>0.370470</td>\n",
       "      <td>0.254948</td>\n",
       "      <td>0.203692</td>\n",
       "    </tr>\n",
       "  </tbody>\n",
       "</table>\n",
       "</div>"
      ],
      "text/plain": [
       "               144       145       146       147       148\n",
       "accuracy  0.716644  0.611114  0.532859  0.426416  0.374094\n",
       "precise   0.513579  0.373460  0.283939  0.181831  0.139946\n",
       "recall    0.716644  0.611114  0.532859  0.426416  0.374094\n",
       "f1        0.598352  0.463605  0.370470  0.254948  0.203692"
      ]
     },
     "execution_count": 85,
     "metadata": {},
     "output_type": "execute_result"
    }
   ],
   "source": [
    "cm_large"
   ]
  },
  {
   "cell_type": "code",
   "execution_count": 78,
   "id": "ec6c54f1",
   "metadata": {},
   "outputs": [
    {
     "name": "stderr",
     "output_type": "stream",
     "text": [
      "C:\\ProgramData\\Anaconda3\\lib\\site-packages\\sklearn\\metrics\\_classification.py:1344: UndefinedMetricWarning: Precision is ill-defined and being set to 0.0 in labels with no predicted samples. Use `zero_division` parameter to control this behavior.\n",
      "  _warn_prf(average, modifier, msg_start, len(result))\n",
      "C:\\ProgramData\\Anaconda3\\lib\\site-packages\\sklearn\\metrics\\_classification.py:1344: UndefinedMetricWarning: Precision is ill-defined and being set to 0.0 in labels with no predicted samples. Use `zero_division` parameter to control this behavior.\n",
      "  _warn_prf(average, modifier, msg_start, len(result))\n",
      "C:\\ProgramData\\Anaconda3\\lib\\site-packages\\sklearn\\metrics\\_classification.py:1344: UndefinedMetricWarning: Precision is ill-defined and being set to 0.0 in labels with no predicted samples. Use `zero_division` parameter to control this behavior.\n",
      "  _warn_prf(average, modifier, msg_start, len(result))\n",
      "C:\\ProgramData\\Anaconda3\\lib\\site-packages\\sklearn\\metrics\\_classification.py:1344: UndefinedMetricWarning: Precision is ill-defined and being set to 0.0 in labels with no predicted samples. Use `zero_division` parameter to control this behavior.\n",
      "  _warn_prf(average, modifier, msg_start, len(result))\n",
      "C:\\ProgramData\\Anaconda3\\lib\\site-packages\\sklearn\\metrics\\_classification.py:1344: UndefinedMetricWarning: Precision is ill-defined and being set to 0.0 in labels with no predicted samples. Use `zero_division` parameter to control this behavior.\n",
      "  _warn_prf(average, modifier, msg_start, len(result))\n"
     ]
    }
   ],
   "source": [
    "cm_large = pd.DataFrame()\n",
    "for i in range(5):\n",
    "    re = trainForLabel(i,testSet)\n",
    "    cm_large = pd.concat([cm_large,re],axis=1)\n",
    "cm_large.to_csv('cm_large.csv')"
   ]
  },
  {
   "cell_type": "code",
   "execution_count": 9,
   "id": "1baf3f42",
   "metadata": {},
   "outputs": [
    {
     "data": {
      "text/plain": [
       "<torch._C.Generator at 0x1db32ab7c70>"
      ]
     },
     "execution_count": 9,
     "metadata": {},
     "output_type": "execute_result"
    }
   ],
   "source": [
    "# parameter for small cnn\n",
    "input_size = 144\n",
    "conv_kernel_1 = 21\n",
    "padding_1 = 10\n",
    "channels=4\n",
    "conv_kernel_2 = 21\n",
    "padding_2 = 10\n",
    "pool_kernel = 3\n",
    "num_classes = 3\n",
    "num_epochs = 7\n",
    "batch_size = 32\n",
    "learning_rate = 0.001\n",
    "torch.manual_seed(0)"
   ]
  },
  {
   "cell_type": "code",
   "execution_count": 18,
   "id": "dd2e2763",
   "metadata": {},
   "outputs": [
    {
     "data": {
      "text/plain": [
       "0.3984926676740893"
      ]
     },
     "execution_count": 18,
     "metadata": {},
     "output_type": "execute_result"
    }
   ],
   "source": [
    "## tuning process\n",
    "\n",
    "i = 144+3\n",
    "trainX,validX = train_test_split(df.iloc[:,:144])\n",
    "trainY,validY = df.loc[trainX.index][i],df.loc[validX.index][i]\n",
    "\n",
    "idx = validY.index\n",
    "net, result = cNN1Predict(input_size, conv_kernel_1, padding_1, channels, conv_kernel_2, padding_2, pool_kernel, num_classes,np.array(trainX),np.array(trainY),np.array(validX),np.array(validY),idx,batch_size=batch_size,num_epochs=num_epochs)\n",
    "# result['label'] = validY-1\n",
    "len(result[result['pred']==result['label']].dropna())/len(validY)"
   ]
  },
  {
   "cell_type": "code",
   "execution_count": 56,
   "id": "8ad7e7ce",
   "metadata": {},
   "outputs": [
    {
     "data": {
      "text/plain": [
       "0.6845911860025281"
      ]
     },
     "execution_count": 56,
     "metadata": {},
     "output_type": "execute_result"
    }
   ],
   "source": [
    "i = 144+0\n",
    "trainX,validX = train_test_split(df.iloc[:,:i])\n",
    "trainY,validY = df.loc[trainX.index][i],df.loc[validX.index][i]\n",
    "\n",
    "idx = validY.index\n",
    "net, result = cNN1Predict(input_size, conv_kernel_1, padding_1, channels, conv_kernel_2, padding_2, pool_kernel, num_classes,np.array(trainX),np.array(trainY),np.array(validX),np.array(validY),idx,batch_size=batch_size,num_epochs=num_epochs)\n",
    "result['label'] = validY-1\n",
    "len(result[result['pred']==result['label']].dropna())/len(validY)"
   ]
  },
  {
   "cell_type": "code",
   "execution_count": null,
   "id": "69429fca",
   "metadata": {},
   "outputs": [],
   "source": []
  }
 ],
 "metadata": {
  "kernelspec": {
   "display_name": "Python 3 (ipykernel)",
   "language": "python",
   "name": "python3"
  },
  "language_info": {
   "codemirror_mode": {
    "name": "ipython",
    "version": 3
   },
   "file_extension": ".py",
   "mimetype": "text/x-python",
   "name": "python",
   "nbconvert_exporter": "python",
   "pygments_lexer": "ipython3",
   "version": "3.11.5"
  }
 },
 "nbformat": 4,
 "nbformat_minor": 5
}
